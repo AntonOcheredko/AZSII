{
  "nbformat": 4,
  "nbformat_minor": 0,
  "metadata": {
    "colab": {
      "provenance": []
    },
    "kernelspec": {
      "name": "python3",
      "display_name": "Python 3"
    },
    "language_info": {
      "name": "python"
    }
  },
  "cells": [
    {
      "cell_type": "markdown",
      "source": [
        "\n",
        "\n",
        "**Практика 3: Атака Carlini-Wagner (CW) на модели\n",
        "ИИ**\n",
        "\n",
        "**Выполнил: Очередько Антон Николаевич ББМО-01-23**\n"
      ],
      "metadata": {
        "id": "58b93c2HBgwY"
      }
    },
    {
      "cell_type": "markdown",
      "source": [
        "Шаг 1: Загрузка обученной модели и данных MNIST"
      ],
      "metadata": {
        "id": "qK9yHyUDBziJ"
      }
    },
    {
      "cell_type": "code",
      "execution_count": 1,
      "metadata": {
        "colab": {
          "base_uri": "https://localhost:8080/"
        },
        "id": "3yGBE1DV4IoO",
        "outputId": "0352eddb-9519-4319-d09b-db1acdfe5775"
      },
      "outputs": [
        {
          "output_type": "stream",
          "name": "stdout",
          "text": [
            "Downloading data from https://storage.googleapis.com/tensorflow/tf-keras-datasets/mnist.npz\n",
            "\u001b[1m11490434/11490434\u001b[0m \u001b[32m━━━━━━━━━━━━━━━━━━━━\u001b[0m\u001b[37m\u001b[0m \u001b[1m2s\u001b[0m 0us/step\n"
          ]
        },
        {
          "output_type": "stream",
          "name": "stderr",
          "text": [
            "WARNING:absl:Compiled the loaded model, but the compiled metrics have yet to be built. `model.compile_metrics` will be empty until you train or evaluate the model.\n"
          ]
        },
        {
          "output_type": "stream",
          "name": "stdout",
          "text": [
            "\u001b[1m313/313\u001b[0m \u001b[32m━━━━━━━━━━━━━━━━━━━━\u001b[0m\u001b[37m\u001b[0m \u001b[1m1s\u001b[0m 2ms/step - accuracy: 0.9740 - loss: 0.0878\n",
            "Test accuracy on clean images: 0.9768000245094299\n"
          ]
        }
      ],
      "source": [
        "import tensorflow as tf\n",
        "from tensorflow.keras.datasets import mnist\n",
        "\n",
        "# Загрузка тестовых данных MNIST\n",
        "(_, _), (test_images, test_labels) = mnist.load_data()\n",
        "\n",
        "# Нормализация данных\n",
        "test_images = test_images / 255.0\n",
        "\n",
        "# Преобразование меток в формат one-hot encoding\n",
        "test_labels = tf.keras.utils.to_categorical(test_labels, num_classes=10)\n",
        "\n",
        "# Загрузка обученной модели\n",
        "model = tf.keras.models.load_model('mnist_model.h5')\n",
        "\n",
        "# Проверка точности модели на обычных данных\n",
        "test_loss, test_acc = model.evaluate(test_images, test_labels)\n",
        "print(f'Test accuracy on clean images: {test_acc}')"
      ]
    },
    {
      "cell_type": "markdown",
      "source": [
        "Шаг 2-3: Ознакомление с теорией, установка Foolbox и запуск CW-атаки"
      ],
      "metadata": {
        "id": "DWVGxVVzCBkr"
      }
    },
    {
      "cell_type": "code",
      "source": [
        "!pip install foolbox"
      ],
      "metadata": {
        "colab": {
          "base_uri": "https://localhost:8080/"
        },
        "id": "dO62ERBo4Yb3",
        "outputId": "23a958da-54c4-47f8-cd04-5ee05b16d09c"
      },
      "execution_count": 2,
      "outputs": [
        {
          "output_type": "stream",
          "name": "stdout",
          "text": [
            "Collecting foolbox\n",
            "  Downloading foolbox-3.3.4-py3-none-any.whl.metadata (7.3 kB)\n",
            "Requirement already satisfied: numpy in /usr/local/lib/python3.11/dist-packages (from foolbox) (1.26.4)\n",
            "Requirement already satisfied: scipy in /usr/local/lib/python3.11/dist-packages (from foolbox) (1.13.1)\n",
            "Requirement already satisfied: setuptools in /usr/local/lib/python3.11/dist-packages (from foolbox) (75.1.0)\n",
            "Collecting eagerpy>=0.30.0 (from foolbox)\n",
            "  Downloading eagerpy-0.30.0-py3-none-any.whl.metadata (5.5 kB)\n",
            "Requirement already satisfied: GitPython>=3.0.7 in /usr/local/lib/python3.11/dist-packages (from foolbox) (3.1.44)\n",
            "Requirement already satisfied: typing-extensions>=3.7.4.1 in /usr/local/lib/python3.11/dist-packages (from foolbox) (4.12.2)\n",
            "Requirement already satisfied: requests>=2.24.0 in /usr/local/lib/python3.11/dist-packages (from foolbox) (2.32.3)\n",
            "Requirement already satisfied: gitdb<5,>=4.0.1 in /usr/local/lib/python3.11/dist-packages (from GitPython>=3.0.7->foolbox) (4.0.12)\n",
            "Requirement already satisfied: charset-normalizer<4,>=2 in /usr/local/lib/python3.11/dist-packages (from requests>=2.24.0->foolbox) (3.4.1)\n",
            "Requirement already satisfied: idna<4,>=2.5 in /usr/local/lib/python3.11/dist-packages (from requests>=2.24.0->foolbox) (3.10)\n",
            "Requirement already satisfied: urllib3<3,>=1.21.1 in /usr/local/lib/python3.11/dist-packages (from requests>=2.24.0->foolbox) (2.3.0)\n",
            "Requirement already satisfied: certifi>=2017.4.17 in /usr/local/lib/python3.11/dist-packages (from requests>=2.24.0->foolbox) (2024.12.14)\n",
            "Requirement already satisfied: smmap<6,>=3.0.1 in /usr/local/lib/python3.11/dist-packages (from gitdb<5,>=4.0.1->GitPython>=3.0.7->foolbox) (5.0.2)\n",
            "Downloading foolbox-3.3.4-py3-none-any.whl (1.7 MB)\n",
            "\u001b[2K   \u001b[90m━━━━━━━━━━━━━━━━━━━━━━━━━━━━━━━━━━━━━━━━\u001b[0m \u001b[32m1.7/1.7 MB\u001b[0m \u001b[31m19.0 MB/s\u001b[0m eta \u001b[36m0:00:00\u001b[0m\n",
            "\u001b[?25hDownloading eagerpy-0.30.0-py3-none-any.whl (31 kB)\n",
            "Installing collected packages: eagerpy, foolbox\n",
            "Successfully installed eagerpy-0.30.0 foolbox-3.3.4\n"
          ]
        }
      ]
    },
    {
      "cell_type": "code",
      "source": [
        "import torch\n",
        "import numpy as np\n",
        "import matplotlib.pyplot as plt\n",
        "import tensorflow as tf\n",
        "import random\n",
        "import foolbox as fb\n",
        "\n",
        "# Инициализация Foolbox модели\n",
        "foolbox_model = fb.TensorFlowModel(model, bounds=(-1, 1))\n",
        "\n",
        "# Получение случайного изображения и метки из тестового набора\n",
        "idx = random.choice(range(len(test_images)))\n",
        "input_image = tf.convert_to_tensor(test_images[idx], dtype=tf.float32)[None, ...]\n",
        "true_label = np.argmax(test_labels[idx])\n",
        "true_label = tf.convert_to_tensor(true_label, dtype=tf.int64)\n",
        "\n",
        "# Настройка атаки Carlini-Wagner с L2-нормой\n",
        "cw_attack = fb.attacks.L2CarliniWagnerAttack(steps=100)\n",
        "\n",
        "# Выполнение атаки\n",
        "print(f\"Для изображения с индексом {idx}, метка: {true_label.numpy()}\")\n",
        "perturbed_images, _, attack_success = cw_attack(foolbox_model, input_image, true_label[None], epsilons=0.01)\n",
        "\n",
        "# Визуализация исходного и атакованного изображения\n",
        "fig, axes = plt.subplots(1, 2, figsize=(12, 6))\n",
        "\n",
        "# Исходное изображение\n",
        "axes[0].imshow(input_image[0].numpy(), cmap='gray')\n",
        "axes[0].set_title(\"Оригинал\")\n",
        "axes[0].axis('off')\n",
        "\n",
        "# Изображение после атаки\n",
        "axes[1].imshow(perturbed_images[0].numpy(), cmap='gray')\n",
        "axes[1].set_title(\"После атаки CW\")\n",
        "axes[1].axis('off')\n",
        "\n",
        "# График\n",
        "plt.show()\n"
      ],
      "metadata": {
        "colab": {
          "base_uri": "https://localhost:8080/",
          "height": 499
        },
        "id": "D3sxqAMi4dUQ",
        "outputId": "2ed30b3c-2b6b-43df-c42d-635e7da4231e"
      },
      "execution_count": 46,
      "outputs": [
        {
          "output_type": "stream",
          "name": "stdout",
          "text": [
            "Для изображения с индексом 19, метка: 4\n"
          ]
        },
        {
          "output_type": "display_data",
          "data": {
            "text/plain": [
              "<Figure size 1200x600 with 2 Axes>"
            ],
            "image/png": "[encoded data removed]"
          },
          "metadata": {}
        }
      ]
    },
    {
      "cell_type": "markdown",
      "source": [
        "Шаг 4: Оценка модели на противоречивых примерах"
      ],
      "metadata": {
        "id": "I9J03OTLCQUX"
      }
    },
    {
      "cell_type": "code",
      "source": [
        "# Параметры для проведения теста\n",
        "max_images = 100  # Максимальное количество изображений для теста\n",
        "batch_size = 20   # Размер пакета для обработки\n",
        "\n",
        "# Ограничение количества данных для теста\n",
        "test_images = test_images[:max_images]\n",
        "test_labels = test_labels[:max_images]\n",
        "\n",
        "# Список для хранения атакованных изображений\n",
        "attacked_images = []\n",
        "\n",
        "# Обработка изображений\n",
        "for start in range(0, len(test_images), batch_size):\n",
        "    # Формируем пакет изображений и меток\n",
        "    images_in_batch = tf.convert_to_tensor(test_images[start:start+batch_size], dtype=tf.float32)\n",
        "    labels_in_batch = np.argmax(test_labels[start:start+batch_size], axis=1)\n",
        "    labels_in_batch = tf.convert_to_tensor(labels_in_batch, dtype=tf.int64)\n",
        "\n",
        "    # Применяем атаку ко всему пакету\n",
        "    adversarial_batch, _, success_flag = attack(fmodel, images_in_batch, labels_in_batch, epsilons=0.01)\n",
        "    attacked_images.append(adversarial_batch)\n",
        "\n",
        "# Объединяем результаты из всех пакетов\n",
        "attacked_images = tf.concat(attacked_images, axis=0)\n",
        "\n",
        "# Оценка точности на атакованных изображениях\n",
        "attack_loss, attack_accuracy = model.evaluate(attacked_images, test_labels[:max_images])\n",
        "print(f'Accuracy on adversarial samples (CW attack): {attack_accuracy}')\n",
        "\n",
        "\n"
      ],
      "metadata": {
        "colab": {
          "base_uri": "https://localhost:8080/"
        },
        "id": "SfVbXwQs6uI6",
        "outputId": "6fd5fb97-4c60-4096-bb72-161ee55462e6"
      },
      "execution_count": 54,
      "outputs": [
        {
          "output_type": "stream",
          "name": "stdout",
          "text": [
            "\u001b[1m4/4\u001b[0m \u001b[32m━━━━━━━━━━━━━━━━━━━━\u001b[0m\u001b[37m\u001b[0m \u001b[1m0s\u001b[0m 3ms/step - accuracy: 0.0431 - loss: 2.1952 \n",
            "Accuracy on adversarial examples (CW attack): 0.03999999910593033\n"
          ]
        }
      ]
    },
    {
      "cell_type": "markdown",
      "source": [
        "Шаг 5 Вывод:\n",
        "\n",
        "Результаты тестирования модели на атакованных примерах (CW-атака) показали значительное снижение точности. После применения атаки на данные точность упала до 4.00%. Это свидетельствует о том, что модель демонстрирует заметную уязвимость к атаке CW (Carlini-Wagner), что подтверждает гипотезу о сложности защиты нейронных сетей от целенаправленных атак.\n",
        "\n",
        "Точная величина потерь модели на атакованных изображениях составила 2.1952, что указывает на наличие значительных искажений в данных, после применения которых модель не может адекватно классифицировать изображения.\n",
        "\n",
        "Такие результаты подчеркивают важность разработки и применения методов защиты нейронных сетей от атак, в частности, с учетом возможных уязвимостей, проявляющихся на примере атак CW."
      ],
      "metadata": {
        "id": "h3z8hiBBCahf"
      }
    }
  ]
}