{
  "nbformat": 4,
  "nbformat_minor": 0,
  "metadata": {
    "colab": {
      "provenance": []
    },
    "kernelspec": {
      "name": "python3",
      "display_name": "Python 3"
    },
    "language_info": {
      "name": "python"
    }
  },
  "cells": [
    {
      "cell_type": "markdown",
      "source": [
        "**Практика 4: Атака DeepFool на модели ИИ**\n",
        "\n",
        "**Выполнил: Очередько Антон Николаевич ББМО-01-23**\n"
      ],
      "metadata": {
        "id": "3RXG35y-U8f0"
      }
    },
    {
      "cell_type": "markdown",
      "source": [
        "Шаг 1: Загрузка обученной модели и данных MNIST"
      ],
      "metadata": {
        "id": "QSaKIRQWVJ8D"
      }
    },
    {
      "cell_type": "code",
      "execution_count": 2,
      "metadata": {
        "id": "TNV2nLZ1FMyW",
        "colab": {
          "base_uri": "https://localhost:8080/"
        },
        "outputId": "6e14414c-c4bd-441d-b316-bbdce1f7e72c"
      },
      "outputs": [
        {
          "output_type": "stream",
          "name": "stderr",
          "text": [
            "WARNING:absl:Compiled the loaded model, but the compiled metrics have yet to be built. `model.compile_metrics` will be empty until you train or evaluate the model.\n"
          ]
        },
        {
          "output_type": "stream",
          "name": "stdout",
          "text": [
            "\u001b[1m313/313\u001b[0m \u001b[32m━━━━━━━━━━━━━━━━━━━━\u001b[0m\u001b[37m\u001b[0m \u001b[1m1s\u001b[0m 2ms/step - accuracy: 0.9740 - loss: 0.0878\n",
            "Test accuracy on clean images: 0.9768000245094299\n"
          ]
        }
      ],
      "source": [
        "import tensorflow as tf\n",
        "from tensorflow.keras.datasets import mnist\n",
        "from tensorflow.keras.utils import to_categorical\n",
        "\n",
        "# Загрузка тестовых данных MNIST\n",
        "(_, _), (test_images, test_labels) = mnist.load_data()\n",
        "\n",
        "# Нормализация данных\n",
        "test_images = test_images / 255.0\n",
        "\n",
        "# Преобразование меток в one-hot кодировку\n",
        "test_labels = to_categorical(test_labels, 10)\n",
        "\n",
        "# Загрузка обученной модели\n",
        "model = tf.keras.models.load_model('mnist_model.h5')\n",
        "\n",
        "# Проверка точности модели на обычных данных\n",
        "test_loss, test_acc = model.evaluate(test_images, test_labels)\n",
        "print(f'Test accuracy on clean images: {test_acc}')\n"
      ]
    },
    {
      "cell_type": "markdown",
      "source": [
        "Шаг 2-3: Теория и реализация атаки DeepFool с использованием Foolbox"
      ],
      "metadata": {
        "id": "_uWdr2q3VOHK"
      }
    },
    {
      "cell_type": "code",
      "source": [
        "!pip install foolbox --upgrade\n"
      ],
      "metadata": {
        "colab": {
          "base_uri": "https://localhost:8080/"
        },
        "id": "u5ci24lYGkoq",
        "outputId": "4dc63eab-83f5-406e-a5b3-b9b69699353b"
      },
      "execution_count": 17,
      "outputs": [
        {
          "output_type": "stream",
          "name": "stdout",
          "text": [
            "Requirement already satisfied: foolbox in /usr/local/lib/python3.11/dist-packages (3.3.4)\n",
            "Requirement already satisfied: numpy in /usr/local/lib/python3.11/dist-packages (from foolbox) (1.26.4)\n",
            "Requirement already satisfied: scipy in /usr/local/lib/python3.11/dist-packages (from foolbox) (1.13.1)\n",
            "Requirement already satisfied: setuptools in /usr/local/lib/python3.11/dist-packages (from foolbox) (75.1.0)\n",
            "Requirement already satisfied: eagerpy>=0.30.0 in /usr/local/lib/python3.11/dist-packages (from foolbox) (0.30.0)\n",
            "Requirement already satisfied: GitPython>=3.0.7 in /usr/local/lib/python3.11/dist-packages (from foolbox) (3.1.44)\n",
            "Requirement already satisfied: typing-extensions>=3.7.4.1 in /usr/local/lib/python3.11/dist-packages (from foolbox) (4.12.2)\n",
            "Requirement already satisfied: requests>=2.24.0 in /usr/local/lib/python3.11/dist-packages (from foolbox) (2.32.3)\n",
            "Requirement already satisfied: gitdb<5,>=4.0.1 in /usr/local/lib/python3.11/dist-packages (from GitPython>=3.0.7->foolbox) (4.0.12)\n",
            "Requirement already satisfied: charset-normalizer<4,>=2 in /usr/local/lib/python3.11/dist-packages (from requests>=2.24.0->foolbox) (3.4.1)\n",
            "Requirement already satisfied: idna<4,>=2.5 in /usr/local/lib/python3.11/dist-packages (from requests>=2.24.0->foolbox) (3.10)\n",
            "Requirement already satisfied: urllib3<3,>=1.21.1 in /usr/local/lib/python3.11/dist-packages (from requests>=2.24.0->foolbox) (2.3.0)\n",
            "Requirement already satisfied: certifi>=2017.4.17 in /usr/local/lib/python3.11/dist-packages (from requests>=2.24.0->foolbox) (2024.12.14)\n",
            "Requirement already satisfied: smmap<6,>=3.0.1 in /usr/local/lib/python3.11/dist-packages (from gitdb<5,>=4.0.1->GitPython>=3.0.7->foolbox) (5.0.2)\n"
          ]
        }
      ]
    },
    {
      "cell_type": "code",
      "source": [
        "import foolbox as fb\n",
        "import tensorflow as tf\n",
        "import numpy as np\n",
        "import matplotlib.pyplot as plt\n",
        "\n",
        "# Создание модели Foolbox с заданными пределами значений\n",
        "model_foolbox = fb.TensorFlowModel(model, bounds=(-1, 1))\n",
        "\n",
        "# Получение тестового изображения и метки\n",
        "input_image = tf.convert_to_tensor(test_images[253], dtype=tf.float32)[None, ...]  # 253 индекс из набора\n",
        "true_label = np.argmax(test_labels[1])  # Метка\n",
        "true_label_tensor = tf.convert_to_tensor(true_label, dtype=tf.int64)  # Преобразуем метку в тензор\n",
        "\n",
        "# Настройка атаки и выполнение\n",
        "deepfool_attack = fb.attacks.L2DeepFoolAttack(steps=150)\n",
        "print(\"Метка: \", true_label)\n",
        "adversarial_images, _, attack_success = deepfool_attack(model_foolbox, input_image, true_label_tensor[None], epsilons=0.02)\n",
        "\n",
        "# Визуализация результатов\n",
        "plt.figure(figsize=(10, 5))\n",
        "plt.subplot(1, 2, 1)\n",
        "plt.title(\"Исходное изображение\")\n",
        "plt.imshow(input_image[0].numpy(), cmap=\"gray\")\n",
        "plt.axis('off')\n",
        "\n",
        "plt.subplot(1, 2, 2)\n",
        "plt.title(\"Атака DeepFool - Противоречивое изображение\")\n",
        "plt.imshow(adversarial_images[0].numpy(), cmap=\"gray\")\n",
        "plt.axis('off')\n",
        "\n",
        "plt.show()"
      ],
      "metadata": {
        "colab": {
          "base_uri": "https://localhost:8080/",
          "height": 428
        },
        "id": "oRO9M-NyGt_H",
        "outputId": "79d1ebca-96f5-46f5-e85e-c1df8ab2e2c3"
      },
      "execution_count": 40,
      "outputs": [
        {
          "output_type": "stream",
          "name": "stdout",
          "text": [
            "Метка:  2\n"
          ]
        },
        {
          "output_type": "display_data",
          "data": {
            "text/plain": [
              "<Figure size 1000x500 with 2 Axes>"
            ],
            "image/png": "[encoded data removed]"
          },
          "metadata": {}
        }
      ]
    },
    {
      "cell_type": "markdown",
      "source": [
        "Шаг 4: Оценка модели на противоречивых примерах"
      ],
      "metadata": {
        "id": "7yFq2sjfVYH6"
      }
    },
    {
      "cell_type": "code",
      "source": [
        "import foolbox as fb\n",
        "import tensorflow as tf\n",
        "import numpy as np\n",
        "from tqdm import tqdm\n",
        "\n",
        "# Создание модели Foolbox\n",
        "model_foolbox = fb.TensorFlowModel(model, bounds=(-1, 1))\n",
        "\n",
        "# Создание набора противоречивых примеров для набора\n",
        "adversarial_images = []\n",
        "\n",
        "# Обработка изображений\n",
        "for i in tqdm(range(len(test_images)), desc=\"Generating adversarial examples\", ncols=100):\n",
        "    input_image = tf.convert_to_tensor(test_images[i], dtype=tf.float32)[None, ...]  # Обрабатываем изображение для набора\n",
        "    true_label = np.argmax(test_labels[i])  # Индекс класса\n",
        "    true_label_tensor = tf.convert_to_tensor(true_label, dtype=tf.int64)  # Преобразуем метку в тензор\n",
        "\n",
        "    # Выполнение атаки\n",
        "    adversarial_example, _, attack_success = deepfool_attack(model_foolbox, input_image, true_label_tensor[None], epsilons=0.01)\n",
        "    adversarial_images.append(adversarial_example)\n",
        "\n",
        "# Объединение всех противоречивых примеров в один тензор\n",
        "adversarial_images = tf.concat(adversarial_images, axis=0)\n",
        "\n",
        "# Оценка точности модели на противоречивых примерах\n",
        "adversarial_loss, adversarial_acc = model.evaluate(adversarial_images, test_labels)\n",
        "print(f'Accuracy on adversarial examples (DeepFool): {adversarial_acc}')\n",
        "\n"
      ],
      "metadata": {
        "colab": {
          "base_uri": "https://localhost:8080/"
        },
        "id": "x9s2_dcZHN6_",
        "outputId": "74fadc0d-dc6e-4cd8-e1a9-0af38943b547"
      },
      "execution_count": 49,
      "outputs": [
        {
          "output_type": "stream",
          "name": "stderr",
          "text": [
            "Generating adversarial examples: 100%|████████████████████████| 10000/10000 [21:31<00:00,  7.74it/s]\n"
          ]
        },
        {
          "output_type": "stream",
          "name": "stdout",
          "text": [
            "\u001b[1m313/313\u001b[0m \u001b[32m━━━━━━━━━━━━━━━━━━━━\u001b[0m\u001b[37m\u001b[0m \u001b[1m1s\u001b[0m 2ms/step - accuracy: 0.0000e+00 - loss: 130.6271\n",
            "Accuracy on adversarial examples (DeepFool): 0.0\n"
          ]
        }
      ]
    },
    {
      "cell_type": "markdown",
      "source": [
        "Шаг 5: Вывод\n",
        "\n",
        "Модель не смогла правильно классифицировать ни одно из атакованных изображений. Это свидетельствует о том, что атака DeepFool была успешной, и модель была сильно уязвима к этим противоречивым примерам.\n",
        "\n",
        "Потери модели на атакованных примерах составили 130.63, что указывает на значительное ухудшение её производительности. Это также подтверждает, что атака оказалась эффективной, и модель не справляется с классификацией противоречивых примеров.\n",
        "\n"
      ],
      "metadata": {
        "id": "nn9tl29rUem-"
      }
    }
  ]
}