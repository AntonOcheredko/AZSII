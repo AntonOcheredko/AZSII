{
  "cells": [
    {
      "cell_type": "markdown",
      "source": [
        "\n",
        "\n",
        "**Практика 5: Атака с ограниченной памятью (PGD - Projected Gradient Descent)**\n",
        "\n",
        "**Выполнил: Очередько Антон Николаевич ББМО-01-23**\n"
      ],
      "metadata": {
        "id": "UgN1jcAukIXM"
      }
    },
    {
      "cell_type": "markdown",
      "source": [
        "Шаг 1: Загрузка обученной модели и данных MNIST"
      ],
      "metadata": {
        "id": "qXx4L52ul4G2"
      }
    },
    {
      "cell_type": "code",
      "execution_count": 11,
      "metadata": {
        "colab": {
          "base_uri": "https://localhost:8080/"
        },
        "id": "7oVWSUDMX0TN",
        "outputId": "e36dbc75-d09b-4759-a463-7a7642cd6389"
      },
      "outputs": [
        {
          "output_type": "stream",
          "name": "stderr",
          "text": [
            "WARNING:absl:Compiled the loaded model, but the compiled metrics have yet to be built. `model.compile_metrics` will be empty until you train or evaluate the model.\n"
          ]
        },
        {
          "output_type": "stream",
          "name": "stdout",
          "text": [
            "\u001b[1m313/313\u001b[0m \u001b[32m━━━━━━━━━━━━━━━━━━━━\u001b[0m\u001b[37m\u001b[0m \u001b[1m2s\u001b[0m 3ms/step - accuracy: 0.9740 - loss: 0.0878\n",
            "Test accuracy on clean images: 0.9768000245094299\n"
          ]
        }
      ],
      "source": [
        "import tensorflow as tf\n",
        "from tensorflow.keras.datasets import mnist\n",
        "from tensorflow.keras.utils import to_categorical\n",
        "\n",
        "# Загрузка тестовых данных MNIST\n",
        "(_, _), (test_images, test_labels) = mnist.load_data()\n",
        "\n",
        "# Нормализация данных\n",
        "test_images = test_images / 255.0\n",
        "\n",
        "# Преобразование меток в one-hot кодировку\n",
        "test_labels = to_categorical(test_labels, 10)\n",
        "\n",
        "# Загрузка обученной модели\n",
        "model = tf.keras.models.load_model('mnist_model.h5')\n",
        "\n",
        "# Проверка точности модели на обычных данных\n",
        "test_loss, test_acc = model.evaluate(test_images, test_labels)\n",
        "print(f'Test accuracy on clean images: {test_acc}')"
      ]
    },
    {
      "cell_type": "markdown",
      "source": [
        "Шаг 2-3: Изучение теории и реализация атаки PGD с использованием Foolbox"
      ],
      "metadata": {
        "id": "mOlrh1UVl7Wz"
      }
    },
    {
      "cell_type": "code",
      "execution_count": 12,
      "metadata": {
        "colab": {
          "base_uri": "https://localhost:8080/"
        },
        "id": "dqM_O0sjYZ18",
        "outputId": "d8ad2bb8-250d-408e-c370-99cfe019a583"
      },
      "outputs": [
        {
          "output_type": "stream",
          "name": "stdout",
          "text": [
            "Requirement already satisfied: foolbox in /usr/local/lib/python3.11/dist-packages (3.3.4)\n",
            "Requirement already satisfied: numpy in /usr/local/lib/python3.11/dist-packages (from foolbox) (1.26.4)\n",
            "Requirement already satisfied: scipy in /usr/local/lib/python3.11/dist-packages (from foolbox) (1.13.1)\n",
            "Requirement already satisfied: setuptools in /usr/local/lib/python3.11/dist-packages (from foolbox) (75.1.0)\n",
            "Requirement already satisfied: eagerpy>=0.30.0 in /usr/local/lib/python3.11/dist-packages (from foolbox) (0.30.0)\n",
            "Requirement already satisfied: GitPython>=3.0.7 in /usr/local/lib/python3.11/dist-packages (from foolbox) (3.1.44)\n",
            "Requirement already satisfied: typing-extensions>=3.7.4.1 in /usr/local/lib/python3.11/dist-packages (from foolbox) (4.12.2)\n",
            "Requirement already satisfied: requests>=2.24.0 in /usr/local/lib/python3.11/dist-packages (from foolbox) (2.32.3)\n",
            "Requirement already satisfied: gitdb<5,>=4.0.1 in /usr/local/lib/python3.11/dist-packages (from GitPython>=3.0.7->foolbox) (4.0.12)\n",
            "Requirement already satisfied: charset-normalizer<4,>=2 in /usr/local/lib/python3.11/dist-packages (from requests>=2.24.0->foolbox) (3.4.1)\n",
            "Requirement already satisfied: idna<4,>=2.5 in /usr/local/lib/python3.11/dist-packages (from requests>=2.24.0->foolbox) (3.10)\n",
            "Requirement already satisfied: urllib3<3,>=1.21.1 in /usr/local/lib/python3.11/dist-packages (from requests>=2.24.0->foolbox) (2.3.0)\n",
            "Requirement already satisfied: certifi>=2017.4.17 in /usr/local/lib/python3.11/dist-packages (from requests>=2.24.0->foolbox) (2024.12.14)\n",
            "Requirement already satisfied: smmap<6,>=3.0.1 in /usr/local/lib/python3.11/dist-packages (from gitdb<5,>=4.0.1->GitPython>=3.0.7->foolbox) (5.0.2)\n"
          ]
        }
      ],
      "source": [
        "!pip install foolbox"
      ]
    },
    {
      "cell_type": "code",
      "execution_count": 13,
      "metadata": {
        "colab": {
          "base_uri": "https://localhost:8080/",
          "height": 411
        },
        "id": "mjZA4iugYf3X",
        "outputId": "7cf18d54-286a-4a41-cdb1-89b11c35b1c9"
      },
      "outputs": [
        {
          "output_type": "display_data",
          "data": {
            "text/plain": [
              "<Figure size 1000x500 with 2 Axes>"
            ],
            "image/png": "[encoded data removed]"
          },
          "metadata": {}
        }
      ],
      "source": [
        "import tensorflow as tf\n",
        "import foolbox as fb\n",
        "import numpy as np\n",
        "import matplotlib.pyplot as plt\n",
        "\n",
        "# Функция для выполнения атаки и вывода результатов\n",
        "def run_attack(model, test_images, test_labels, image_index=253, epsilon=0.01, attack_steps=10):\n",
        "    # Инициализация модели Foolbox\n",
        "    fmodel = fb.TensorFlowModel(model, bounds=(-1, 1))\n",
        "\n",
        "    # Подготовка изображения и метки\n",
        "    image = tf.convert_to_tensor(test_images[image_index], dtype=tf.float32)[None, ...]\n",
        "    label = tf.convert_to_tensor(np.argmax(test_labels[image_index]), dtype=tf.int64)\n",
        "\n",
        "    attack = fb.attacks.LinfPGD(steps=attack_steps)\n",
        "\n",
        "    # Выполнение атаки\n",
        "    advs, _, success = attack(fmodel, image, label[None], epsilons=epsilon)\n",
        "\n",
        "    # Отображение результатов\n",
        "    display_results(image, advs)\n",
        "\n",
        "# Функция для отображения исходного и атакованного изображений\n",
        "def display_results(original_image, adversarial_image):\n",
        "    plt.figure(figsize=(10, 5))\n",
        "\n",
        "    # Исходное изображение\n",
        "    plt.subplot(1, 2, 1)\n",
        "    plt.title(\"Оригинальное изображение\")\n",
        "    plt.imshow(original_image[0].numpy(), cmap=\"gray\")\n",
        "    plt.axis('off')\n",
        "\n",
        "    # Атакованное изображение\n",
        "    plt.subplot(1, 2, 2)\n",
        "    plt.title(\"Противоречивое изображение (PGD)\")\n",
        "    plt.imshow(adversarial_image[0].numpy(), cmap=\"gray\")\n",
        "    plt.axis('off')\n",
        "\n",
        "    plt.show()\n",
        "\n",
        "# Пример вызова функции с использованием данных\n",
        "run_attack(model, test_images, test_labels)\n",
        "\n",
        "\n"
      ]
    },
    {
      "cell_type": "markdown",
      "source": [
        "Шаг 4: Оценка модели на противоречивых примерах"
      ],
      "metadata": {
        "id": "0fWWHAyHmDAN"
      }
    },
    {
      "cell_type": "code",
      "execution_count": 22,
      "metadata": {
        "colab": {
          "base_uri": "https://localhost:8080/"
        },
        "id": "2Qqtpktyan7p",
        "outputId": "bac03646-7c8e-45de-8afa-3c3dfe53b635"
      },
      "outputs": [
        {
          "output_type": "stream",
          "name": "stderr",
          "text": [
            "Generating adversarial examples: 100%|██████████| 10000/10000 [19:07<00:00,  8.71it/s]\n"
          ]
        },
        {
          "output_type": "stream",
          "name": "stdout",
          "text": [
            "\u001b[1m313/313\u001b[0m \u001b[32m━━━━━━━━━━━━━━━━━━━━\u001b[0m\u001b[37m\u001b[0m \u001b[1m0s\u001b[0m 2ms/step - accuracy: 0.4604 - loss: 1.9838\n",
            "Accuracy on adversarial examples (PGD): 0.5123999714851379\n"
          ]
        }
      ],
      "source": [
        "import tensorflow as tf\n",
        "import numpy as np\n",
        "import foolbox as fb\n",
        "from tqdm import tqdm\n",
        "\n",
        "# Функция для создания набора противоречивых примеров\n",
        "def generate_adversarial_examples(model, test_images, test_labels, epsilon=0.1):\n",
        "    # Инициализация модели Foolbox\n",
        "    fmodel = fb.TensorFlowModel(model, bounds=(-1, 1))\n",
        "\n",
        "    # Создание объекта атаки (PGD)\n",
        "    attack = fb.attacks.LinfPGD(steps=10)\n",
        "\n",
        "    adversarial_images = []\n",
        "\n",
        "    for i in tqdm(range(len(test_images)), desc=\"Generating adversarial examples\"):\n",
        "        # Подготовка изображения и метки\n",
        "        image = tf.convert_to_tensor(test_images[i], dtype=tf.float32)[None, ...]\n",
        "        label = tf.convert_to_tensor(np.argmax(test_labels[i]), dtype=tf.int64)\n",
        "\n",
        "        # Выполнение атаки\n",
        "        advs, _, success = attack(fmodel, image, label[None], epsilons=epsilon)\n",
        "        adversarial_images.append(advs)\n",
        "\n",
        "    return tf.concat(adversarial_images, axis=0)\n",
        "\n",
        "adversarial_images = generate_adversarial_examples(model, test_images, test_labels)\n",
        "\n",
        "adversarial_acc = evaluate_adversarial_accuracy(model, adversarial_images, test_labels)\n",
        "\n",
        "# Вывод результатов\n",
        "print(f'Accuracy on adversarial examples (PGD): {adversarial_acc}')"
      ]
    },
    {
      "cell_type": "markdown",
      "source": [
        "Шаг 5:\n",
        "\n",
        "Вывод:\n",
        "Результаты показывают, что модель теряет в точности после применения атаки PGD. Точность на атакованных примерах составила 51.24%. Это говорит о том, что модель уязвима к такой атаке, и даже небольшие изменения в изображениях могут сильно повлиять на её работу.\n",
        "\n",
        "\n",
        "\n",
        "\n",
        "\n",
        "\n",
        "\n"
      ],
      "metadata": {
        "id": "PvD1zi3cime4"
      }
    }
  ],
  "metadata": {
    "colab": {
      "provenance": []
    },
    "kernelspec": {
      "display_name": "Python 3",
      "name": "python3"
    },
    "language_info": {
      "name": "python"
    }
  },
  "nbformat": 4,
  "nbformat_minor": 0
}