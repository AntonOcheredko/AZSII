{
  "nbformat": 4,
  "nbformat_minor": 0,
  "metadata": {
    "colab": {
      "provenance": []
    },
    "kernelspec": {
      "name": "python3",
      "display_name": "Python 3"
    },
    "language_info": {
      "name": "python"
    }
  },
  "cells": [
    {
      "cell_type": "markdown",
      "source": [
        "\n",
        "\n",
        "**Практика 8: Методы защиты от атак на модели ИИ**\n",
        "\n",
        "**Выполнил: Очередько Антон Николаевич ББМО-01-23**\n"
      ],
      "metadata": {
        "id": "Ji7ieqZAFNry"
      }
    },
    {
      "cell_type": "markdown",
      "source": [
        "Шаг 1: Защита с помощью Adversarial Training"
      ],
      "metadata": {
        "id": "BySGFCQ_FhNG"
      }
    },
    {
      "cell_type": "code",
      "execution_count": 20,
      "metadata": {
        "colab": {
          "base_uri": "https://localhost:8080/"
        },
        "id": "8unzjK037p9s",
        "outputId": "6260a186-ff57-4761-d26e-07f11330b0b4"
      },
      "outputs": [
        {
          "output_type": "stream",
          "name": "stdout",
          "text": [
            "Epoch 1/3\n",
            "\u001b[1m1875/1875\u001b[0m \u001b[32m━━━━━━━━━━━━━━━━━━━━\u001b[0m\u001b[37m\u001b[0m \u001b[1m10s\u001b[0m 4ms/step - accuracy: 0.8902 - loss: 0.4332\n",
            "Epoch 2/3\n",
            "\u001b[1m1875/1875\u001b[0m \u001b[32m━━━━━━━━━━━━━━━━━━━━\u001b[0m\u001b[37m\u001b[0m \u001b[1m10s\u001b[0m 5ms/step - accuracy: 0.8888 - loss: 0.6303\n",
            "Epoch 3/3\n",
            "\u001b[1m1875/1875\u001b[0m \u001b[32m━━━━━━━━━━━━━━━━━━━━\u001b[0m\u001b[37m\u001b[0m \u001b[1m10s\u001b[0m 5ms/step - accuracy: 0.8979 - loss: 0.5713\n"
          ]
        },
        {
          "output_type": "stream",
          "name": "stderr",
          "text": [
            "WARNING:absl:You are saving your model as an HDF5 file via `model.save()` or `keras.saving.save_model(model)`. This file format is considered legacy. We recommend using instead the native Keras format, e.g. `model.save('my_model.keras')` or `keras.saving.save_model(model, 'my_model.keras')`. \n"
          ]
        },
        {
          "output_type": "stream",
          "name": "stdout",
          "text": [
            "Test Loss: 0.5883, Test Accuracy: 0.8049\n"
          ]
        }
      ],
      "source": [
        "import tensorflow as tf\n",
        "import numpy as np\n",
        "from tensorflow.keras.datasets import mnist\n",
        "from tensorflow.keras.models import Sequential\n",
        "from tensorflow.keras.layers import Dense, Flatten\n",
        "from tensorflow.keras.optimizers import Adam\n",
        "\n",
        "# Загрузка данных MNIST\n",
        "(train_images, train_labels), (test_images, test_labels) = mnist.load_data()\n",
        "\n",
        "# Нормализация данных\n",
        "train_images = train_images.astype(\"float32\") / 255.0\n",
        "test_images = test_images.astype(\"float32\") / 255.0\n",
        "\n",
        "# Изменение формы данных для работы с Keras\n",
        "train_images = np.expand_dims(train_images, -1)\n",
        "test_images = np.expand_dims(test_images, -1)\n",
        "\n",
        "# Создание модели\n",
        "def create_model():\n",
        "    model = Sequential([\n",
        "        tf.keras.Input(shape=(28, 28, 1)),\n",
        "        Flatten(),\n",
        "        Dense(128, activation='relu'),\n",
        "        Dense(10, activation='softmax')\n",
        "    ])\n",
        "    model.compile(optimizer=Adam(),\n",
        "                  loss='sparse_categorical_crossentropy',\n",
        "                  metrics=['accuracy'])\n",
        "    return model\n",
        "\n",
        "# Генерация adversarial-примеров с использованием метода FGSM\n",
        "def generate_adversarial_examples(model, images, labels, epsilon):\n",
        "    # Преобразование массивов в tf.Tensor\n",
        "    images = tf.convert_to_tensor(images)\n",
        "    labels = tf.convert_to_tensor(labels)\n",
        "\n",
        "    loss_object = tf.keras.losses.SparseCategoricalCrossentropy()\n",
        "    with tf.GradientTape() as tape:\n",
        "        tape.watch(images)\n",
        "        predictions = model(images)\n",
        "        loss = loss_object(labels, predictions)\n",
        "    gradients = tape.gradient(loss, images)\n",
        "    adversarial_images = images + epsilon * tf.sign(gradients)\n",
        "    adversarial_images = tf.clip_by_value(adversarial_images, 0.0, 1.0)\n",
        "    return adversarial_images\n",
        "\n",
        "# Функция для adversarial-тренировки\n",
        "def adversarial_training(model, images, labels, epsilon=0.1, epochs=1):\n",
        "    for epoch in range(epochs):\n",
        "        print(f\"Epoch {epoch + 1}/{epochs}\")\n",
        "        # Генерируем adversarial-примеры\n",
        "        adversarial_images = generate_adversarial_examples(model, images, labels, epsilon)\n",
        "        adversarial_images = tf.convert_to_tensor(adversarial_images)\n",
        "        model.fit(adversarial_images, labels, epochs=1, verbose=1)\n",
        "\n",
        "\n",
        "# Инициализация и тренировка модели\n",
        "model = create_model()\n",
        "\n",
        "# Тренировка модели с использованием adversarial-примеров\n",
        "adversarial_training(model, train_images, train_labels, epsilon=0.1, epochs=3)\n",
        "\n",
        "# Оценка модели\n",
        "loss, accuracy = model.evaluate(test_images, test_labels, verbose=0)\n",
        "print(f\"Test Loss: {loss:.4f}, Test Accuracy: {accuracy:.4f}\")\n",
        "\n",
        "# Сохранение модели\n",
        "model.save('adversarial_trained_model.h5')\n"
      ]
    },
    {
      "cell_type": "markdown",
      "source": [
        "Шаг 2: Градиентная маскировка (Gradient Masking)"
      ],
      "metadata": {
        "id": "vtjD0YVSFmH9"
      }
    },
    {
      "cell_type": "code",
      "source": [
        "import tensorflow as tf\n",
        "import numpy as np\n",
        "from tensorflow.keras.datasets import mnist\n",
        "from tensorflow.keras.layers import Dense, Flatten, Activation\n",
        "from tensorflow.keras.optimizers import Adam\n",
        "\n",
        "# Загрузка данных MNIST\n",
        "(train_images, train_labels), (test_images, test_labels) = mnist.load_data()\n",
        "\n",
        "# Нормализация данных\n",
        "train_images = train_images.astype(\"float32\") / 255.0\n",
        "test_images = test_images.astype(\"float32\") / 255.0\n",
        "\n",
        "# Изменение формы данных для работы с Keras\n",
        "train_images = np.expand_dims(train_images, -1)\n",
        "test_images = np.expand_dims(test_images, -1)\n",
        "\n",
        "# Преобразование меток в one-hot encoding\n",
        "train_labels = tf.keras.utils.to_categorical(train_labels, 10)\n",
        "test_labels = tf.keras.utils.to_categorical(test_labels, 10)\n",
        "\n",
        "# Обновление модели для градиентной маскировки\n",
        "def create_masked_model():\n",
        "    model = tf.keras.Sequential([\n",
        "        tf.keras.layers.Input(shape=(28, 28, 1)),\n",
        "        tf.keras.layers.Flatten(),\n",
        "        tf.keras.layers.Dense(128, activation='relu'),\n",
        "        tf.keras.layers.Dense(10),\n",
        "        Activation('softplus')  # Используем softplus вместо softmax для градиентной маскировки\n",
        "    ])\n",
        "    model.compile(optimizer='adam', loss='categorical_crossentropy', metrics=['accuracy'])\n",
        "    return model\n",
        "\n",
        "# Инициализация модели с градиентной маскировкой\n",
        "masked_model = create_masked_model()\n",
        "\n",
        "# Обучение модели с градиентной маскировкой\n",
        "masked_model.fit(train_images, train_labels, epochs=5)\n",
        "\n",
        "# Оценка модели\n",
        "loss, accuracy = masked_model.evaluate(test_images, test_labels, verbose=0)\n",
        "print(f\"Test Loss: {loss:.4f}, Test Accuracy: {accuracy:.4f}\")\n",
        "\n",
        "# Сохранение модели с градиентной маскировкой\n",
        "masked_model.save('masked_model.h5')\n"
      ],
      "metadata": {
        "colab": {
          "base_uri": "https://localhost:8080/"
        },
        "id": "lA2eUPEo-kQf",
        "outputId": "7b28de18-3b97-4f2e-fcd3-5d939253a014"
      },
      "execution_count": 4,
      "outputs": [
        {
          "output_type": "stream",
          "name": "stdout",
          "text": [
            "Epoch 1/5\n",
            "\u001b[1m1875/1875\u001b[0m \u001b[32m━━━━━━━━━━━━━━━━━━━━\u001b[0m\u001b[37m\u001b[0m \u001b[1m11s\u001b[0m 5ms/step - accuracy: 0.8762 - loss: 0.4599\n",
            "Epoch 2/5\n",
            "\u001b[1m1875/1875\u001b[0m \u001b[32m━━━━━━━━━━━━━━━━━━━━\u001b[0m\u001b[37m\u001b[0m \u001b[1m8s\u001b[0m 4ms/step - accuracy: 0.9621 - loss: 0.1342\n",
            "Epoch 3/5\n",
            "\u001b[1m1875/1875\u001b[0m \u001b[32m━━━━━━━━━━━━━━━━━━━━\u001b[0m\u001b[37m\u001b[0m \u001b[1m12s\u001b[0m 6ms/step - accuracy: 0.9740 - loss: 0.0859\n",
            "Epoch 4/5\n",
            "\u001b[1m1875/1875\u001b[0m \u001b[32m━━━━━━━━━━━━━━━━━━━━\u001b[0m\u001b[37m\u001b[0m \u001b[1m11s\u001b[0m 6ms/step - accuracy: 0.9799 - loss: 0.0669\n",
            "Epoch 5/5\n",
            "\u001b[1m1875/1875\u001b[0m \u001b[32m━━━━━━━━━━━━━━━━━━━━\u001b[0m\u001b[37m\u001b[0m \u001b[1m11s\u001b[0m 6ms/step - accuracy: 0.9847 - loss: 0.0506\n"
          ]
        },
        {
          "output_type": "stream",
          "name": "stderr",
          "text": [
            "WARNING:absl:You are saving your model as an HDF5 file via `model.save()` or `keras.saving.save_model(model)`. This file format is considered legacy. We recommend using instead the native Keras format, e.g. `model.save('my_model.keras')` or `keras.saving.save_model(model, 'my_model.keras')`. \n"
          ]
        },
        {
          "output_type": "stream",
          "name": "stdout",
          "text": [
            "Test Loss: 0.0784, Test Accuracy: 0.9768\n"
          ]
        }
      ]
    },
    {
      "cell_type": "markdown",
      "source": [
        "Шаг 3: Регуляризация и нормализация для повышения устойчивости"
      ],
      "metadata": {
        "id": "aiGVyjC4FqsI"
      }
    },
    {
      "cell_type": "code",
      "source": [
        "import tensorflow as tf\n",
        "import numpy as np\n",
        "from tensorflow.keras.datasets import mnist\n",
        "from tensorflow.keras.layers import Dense, Flatten, Dropout, BatchNormalization\n",
        "from tensorflow.keras.optimizers import Adam\n",
        "\n",
        "# Загрузка данных MNIST\n",
        "(train_images, train_labels), (test_images, test_labels) = mnist.load_data()\n",
        "\n",
        "# Нормализация данных\n",
        "train_images = train_images.astype(\"float32\") / 255.0\n",
        "test_images = test_images.astype(\"float32\") / 255.0\n",
        "\n",
        "# Изменение формы данных для работы с Keras\n",
        "train_images = np.expand_dims(train_images, -1)\n",
        "test_images = np.expand_dims(test_images, -1)\n",
        "\n",
        "# Преобразование меток в one-hot encoding\n",
        "train_labels = tf.keras.utils.to_categorical(train_labels, 10)\n",
        "test_labels = tf.keras.utils.to_categorical(test_labels, 10)\n",
        "\n",
        "# Модель с регуляризацией и нормализацией\n",
        "def create_regularized_model():\n",
        "    model = tf.keras.Sequential([\n",
        "        tf.keras.layers.Input(shape=(28, 28, 1)),\n",
        "        Flatten(),\n",
        "        Dense(128, activation='relu', kernel_regularizer=tf.keras.regularizers.l2(0.01)),\n",
        "        Dropout(0.5),  # Dropout для борьбы с переобучением\n",
        "        BatchNormalization(),  # Нормализация\n",
        "        Dense(10, activation='softmax')\n",
        "    ])\n",
        "    model.compile(optimizer='adam', loss='categorical_crossentropy', metrics=['accuracy'])\n",
        "    return model\n",
        "\n",
        "# Инициализация модели с регуляризацией и нормализацией\n",
        "regularized_model = create_regularized_model()\n",
        "\n",
        "# Обучение модели с регуляризацией и нормализацией\n",
        "regularized_model.fit(train_images, train_labels, epochs=5)\n",
        "\n",
        "# Оценка модели\n",
        "loss, accuracy = regularized_model.evaluate(test_images, test_labels, verbose=0)\n",
        "print(f\"Test Loss: {loss:.4f}, Test Accuracy: {accuracy:.4f}\")\n",
        "\n",
        "# Сохранение модели с регуляризацией\n",
        "regularized_model.save('regularized_model.h5')\n"
      ],
      "metadata": {
        "colab": {
          "base_uri": "https://localhost:8080/"
        },
        "id": "wSbyN9SL_SSH",
        "outputId": "63a1af0d-4d54-4e4d-fc19-3df852b78191"
      },
      "execution_count": 5,
      "outputs": [
        {
          "output_type": "stream",
          "name": "stdout",
          "text": [
            "Epoch 1/5\n",
            "\u001b[1m1875/1875\u001b[0m \u001b[32m━━━━━━━━━━━━━━━━━━━━\u001b[0m\u001b[37m\u001b[0m \u001b[1m13s\u001b[0m 6ms/step - accuracy: 0.7938 - loss: 1.3442\n",
            "Epoch 2/5\n",
            "\u001b[1m1875/1875\u001b[0m \u001b[32m━━━━━━━━━━━━━━━━━━━━\u001b[0m\u001b[37m\u001b[0m \u001b[1m12s\u001b[0m 6ms/step - accuracy: 0.8704 - loss: 0.6297\n",
            "Epoch 3/5\n",
            "\u001b[1m1875/1875\u001b[0m \u001b[32m━━━━━━━━━━━━━━━━━━━━\u001b[0m\u001b[37m\u001b[0m \u001b[1m12s\u001b[0m 6ms/step - accuracy: 0.8651 - loss: 0.6236\n",
            "Epoch 4/5\n",
            "\u001b[1m1875/1875\u001b[0m \u001b[32m━━━━━━━━━━━━━━━━━━━━\u001b[0m\u001b[37m\u001b[0m \u001b[1m12s\u001b[0m 6ms/step - accuracy: 0.8651 - loss: 0.6164\n",
            "Epoch 5/5\n",
            "\u001b[1m1875/1875\u001b[0m \u001b[32m━━━━━━━━━━━━━━━━━━━━\u001b[0m\u001b[37m\u001b[0m \u001b[1m20s\u001b[0m 6ms/step - accuracy: 0.8628 - loss: 0.6208\n"
          ]
        },
        {
          "output_type": "stream",
          "name": "stderr",
          "text": [
            "WARNING:absl:You are saving your model as an HDF5 file via `model.save()` or `keras.saving.save_model(model)`. This file format is considered legacy. We recommend using instead the native Keras format, e.g. `model.save('my_model.keras')` or `keras.saving.save_model(model, 'my_model.keras')`. \n"
          ]
        },
        {
          "output_type": "stream",
          "name": "stdout",
          "text": [
            "Test Loss: 0.3977, Test Accuracy: 0.9347\n"
          ]
        }
      ]
    },
    {
      "cell_type": "markdown",
      "source": [
        "Шаг 4: Оценка моделей на противоречивых примерах"
      ],
      "metadata": {
        "id": "dyFKTFDtFwxz"
      }
    },
    {
      "cell_type": "code",
      "source": [
        "import matplotlib.pyplot as plt\n",
        "import numpy as np\n",
        "import tensorflow as tf\n",
        "\n",
        "# Загрузка атакованной модели\n",
        "protected_model = tf.keras.models.load_model('adversarial_trained_model.h5')\n",
        "protected_model.compile(optimizer='adam', loss='sparse_categorical_crossentropy', metrics=['accuracy'])\n",
        "\n",
        "if len(test_labels.shape) > 1:\n",
        "    sparse_test_labels = np.argmax(test_labels, axis=1)\n",
        "else:\n",
        "    sparse_test_labels = test_labels\n",
        "\n",
        "# Генерация противоречивых примеров для тестовых данных\n",
        "adversarial_test_images = generate_adversarial_examples(\n",
        "    protected_model,\n",
        "    test_images,\n",
        "    sparse_test_labels,  # Передаем sparse метки\n",
        "    epsilon=0.1\n",
        ")\n",
        "\n",
        "# Визуализация нескольких adversarial-примеров\n",
        "num_samples = 5\n",
        "fig, axes = plt.subplots(1, num_samples, figsize=(10, 2))\n",
        "for i in range(num_samples):\n",
        "    axes[i].imshow(adversarial_test_images[i].numpy().reshape(28, 28), cmap='gray')\n",
        "    axes[i].axis('off')\n",
        "plt.show()\n",
        "\n",
        "# Оценка модели на противоречивых примерах\n",
        "test_loss, test_acc = protected_model.evaluate(adversarial_test_images, sparse_test_labels)\n",
        "print(f'Accuracy of protected model on adversarial examples: {test_acc}')\n",
        "\n",
        "# Оценика модели на обычных тестовых данных\n",
        "test_loss_normal, test_acc_normal = protected_model.evaluate(test_images, sparse_test_labels)\n",
        "print(f'Accuracy of protected model on original test data: {test_acc_normal}')\n"
      ],
      "metadata": {
        "colab": {
          "base_uri": "https://localhost:8080/",
          "height": 277
        },
        "id": "VUr1vX_J_3Ek",
        "outputId": "4da04cbe-4095-4d31-f8d2-b24ab187c8e3"
      },
      "execution_count": 22,
      "outputs": [
        {
          "output_type": "stream",
          "name": "stderr",
          "text": [
            "WARNING:absl:Compiled the loaded model, but the compiled metrics have yet to be built. `model.compile_metrics` will be empty until you train or evaluate the model.\n"
          ]
        },
        {
          "output_type": "display_data",
          "data": {
            "text/plain": [
              "<Figure size 1000x200 with 5 Axes>"
            ],
            "image/png": "[encoded data removed]"
          },
          "metadata": {}
        },
        {
          "output_type": "stream",
          "name": "stdout",
          "text": [
            "\u001b[1m313/313\u001b[0m \u001b[32m━━━━━━━━━━━━━━━━━━━━\u001b[0m\u001b[37m\u001b[0m \u001b[1m1s\u001b[0m 2ms/step - accuracy: 0.0000e+00 - loss: 10.8206\n",
            "Accuracy of protected model on adversarial examples: 0.0\n",
            "\u001b[1m313/313\u001b[0m \u001b[32m━━━━━━━━━━━━━━━━━━━━\u001b[0m\u001b[37m\u001b[0m \u001b[1m1s\u001b[0m 2ms/step - accuracy: 0.7836 - loss: 0.6495\n",
            "Accuracy of protected model on original test data: 0.8048999905586243\n"
          ]
        }
      ]
    },
    {
      "cell_type": "markdown",
      "source": [
        "Шаг 5: Сравнение методов защиты"
      ],
      "metadata": {
        "id": "BexQWNx-GBfg"
      }
    },
    {
      "cell_type": "code",
      "source": [
        "import tensorflow as tf\n",
        "import numpy as np\n",
        "from tensorflow.keras.datasets import mnist\n",
        "from tensorflow.keras.models import load_model\n",
        "\n",
        "# Загрузка данных MNIST\n",
        "(train_images, train_labels), (test_images, test_labels) = mnist.load_data()\n",
        "\n",
        "# Нормализация данных\n",
        "train_images = train_images.astype(\"float32\") / 255.0\n",
        "test_images = test_images.astype(\"float32\") / 255.0\n",
        "\n",
        "# Изменение формы данных для работы с Keras\n",
        "train_images = np.expand_dims(train_images, -1)\n",
        "test_images = np.expand_dims(test_images, -1)\n",
        "\n",
        "# Преобразование меток в one-hot encoding\n",
        "train_labels = tf.keras.utils.to_categorical(train_labels, 10)\n",
        "test_labels = tf.keras.utils.to_categorical(test_labels, 10)\n",
        "\n",
        "# Генерация adversarial-примеров с использованием метода FGSM\n",
        "def generate_adversarial_examples(model, images, labels, epsilon):\n",
        "    images = tf.convert_to_tensor(images)\n",
        "    labels = tf.convert_to_tensor(labels)\n",
        "\n",
        "    loss_object = tf.keras.losses.CategoricalCrossentropy()\n",
        "    with tf.GradientTape() as tape:\n",
        "        tape.watch(images)\n",
        "        predictions = model(images)\n",
        "        loss = loss_object(labels, predictions)\n",
        "    gradients = tape.gradient(loss, images)\n",
        "    adversarial_images = images + epsilon * tf.sign(gradients)\n",
        "    adversarial_images = tf.clip_by_value(adversarial_images, 0.0, 1.0)\n",
        "    return adversarial_images\n",
        "\n",
        "# Загрузка и компиляция моделей\n",
        "adversarial_model = load_model('adversarial_trained_model.h5')\n",
        "adversarial_model.compile(optimizer='adam', loss='categorical_crossentropy', metrics=['accuracy'])\n",
        "\n",
        "masked_model = load_model('masked_model.h5')\n",
        "masked_model.compile(optimizer='adam', loss='categorical_crossentropy', metrics=['accuracy'])\n",
        "\n",
        "regularized_model = load_model('regularized_model.h5')\n",
        "regularized_model.compile(optimizer='adam', loss='categorical_crossentropy', metrics=['accuracy'])\n",
        "\n",
        "# Оценка каждой модели на обычных тестовых данных\n",
        "def evaluate_model(model, model_name, test_images, test_labels):\n",
        "    print(f\"\\nEvaluating {model_name} on original test data\")\n",
        "    loss, accuracy = model.evaluate(test_images, test_labels, verbose=0)\n",
        "    print(f\"Loss: {loss}, Accuracy: {accuracy}\")\n",
        "\n",
        "# Оценка каждой модели на противоречивых данных\n",
        "def evaluate_model_adversarial(model, model_name, test_images, test_labels, epsilon=0.1):\n",
        "    adversarial_test_images = generate_adversarial_examples(model, test_images, test_labels, epsilon)\n",
        "    print(f\"\\nEvaluating {model_name} on adversarial test data\")\n",
        "    loss, accuracy = model.evaluate(adversarial_test_images, test_labels, verbose=0)\n",
        "    print(f\"Loss: {loss}, Accuracy: {accuracy}\")\n",
        "\n",
        "# Оценка моделей\n",
        "evaluate_model(adversarial_model, \"Adversarial Training Model\", test_images, test_labels)\n",
        "evaluate_model_adversarial(adversarial_model, \"Adversarial Training Model\", test_images, test_labels)\n",
        "\n",
        "evaluate_model(masked_model, \"Gradient Masking Model\", test_images, test_labels)\n",
        "evaluate_model_adversarial(masked_model, \"Gradient Masking Model\", test_images, test_labels)\n",
        "\n",
        "evaluate_model(regularized_model, \"Regularized Model\", test_images, test_labels)\n",
        "evaluate_model_adversarial(regularized_model, \"Regularized Model\", test_images, test_labels)\n"
      ],
      "metadata": {
        "colab": {
          "base_uri": "https://localhost:8080/"
        },
        "id": "tMZz6MB0CsEC",
        "outputId": "325381e3-5ec2-4f49-f11d-38cb4ccc20aa"
      },
      "execution_count": 23,
      "outputs": [
        {
          "output_type": "stream",
          "name": "stderr",
          "text": [
            "WARNING:absl:Compiled the loaded model, but the compiled metrics have yet to be built. `model.compile_metrics` will be empty until you train or evaluate the model.\n",
            "WARNING:absl:Compiled the loaded model, but the compiled metrics have yet to be built. `model.compile_metrics` will be empty until you train or evaluate the model.\n",
            "WARNING:absl:Compiled the loaded model, but the compiled metrics have yet to be built. `model.compile_metrics` will be empty until you train or evaluate the model.\n"
          ]
        },
        {
          "output_type": "stream",
          "name": "stdout",
          "text": [
            "\n",
            "Evaluating Adversarial Training Model on original test data\n",
            "Loss: 0.5883059501647949, Accuracy: 0.8048999905586243\n",
            "\n",
            "Evaluating Adversarial Training Model on adversarial test data\n",
            "Loss: 10.59511661529541, Accuracy: 0.0\n",
            "\n",
            "Evaluating Gradient Masking Model on original test data\n",
            "Loss: 0.0783783420920372, Accuracy: 0.9768000245094299\n",
            "\n",
            "Evaluating Gradient Masking Model on adversarial test data\n",
            "Loss: 6.396913528442383, Accuracy: 0.11999999731779099\n",
            "\n",
            "Evaluating Regularized Model on original test data\n",
            "Loss: 0.3976946175098419, Accuracy: 0.9347000122070312\n",
            "\n",
            "Evaluating Regularized Model on adversarial test data\n",
            "Loss: 1.7072527408599854, Accuracy: 0.4772999882698059\n"
          ]
        }
      ]
    },
    {
      "cell_type": "markdown",
      "source": [
        "Вывод:\n",
        "\n",
        "Adversarial Training показала свою слабость в защите от атак, несмотря на высокие результаты на обычных данных. Возможно, улучшение данной методики с учётом более сложных атак могло бы повысить её эффективность.\n",
        "\n",
        "Gradient Masking оказалась эффективной для обычных данных, но не показала значительной защиты от атак, что может указывать на её уязвимость.\n",
        "\n",
        "Regularization имеет лучшие результаты, чем другие методы защиты, но всё равно не идеальна в защите от атак, что открывает возможности для дальнейших улучшений.\n"
      ],
      "metadata": {
        "id": "e9ybGP-PFD0q"
      }
    }
  ]
}